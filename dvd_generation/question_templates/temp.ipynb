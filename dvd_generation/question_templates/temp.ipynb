{
 "cells": [
  {
   "cell_type": "code",
   "execution_count": 5,
   "metadata": {},
   "outputs": [],
   "source": [
    "import json \n",
    "import pdb\n",
    "import copy\n",
    "import glob \n",
    "import pandas as pd"
   ]
  },
  {
   "cell_type": "code",
   "execution_count": 19,
   "metadata": {},
   "outputs": [],
   "source": [
    "def display_template(file, idx, t):\n",
    "    print('==========={} {}========='.format(file, idx))\n",
    "    print(t['text']) \n",
    "    \n",
    "    for idx, n in enumerate(t['nodes']):\n",
    "        print(idx, n)\n",
    "    print(t['params'])\n",
    "        \n",
    "    print('Constraint: {}'.format(t['constraints']))\n",
    "    print('Interval type {}'.format(t['interval_type']))\n",
    "    if 'unique_obj' in t: print('Unique obj {}'.format(t['unique_obj']))\n",
    "    if 'answer_obj' in t: print('Answer obj {}'.format(t['answer_obj']))\n",
    "    if 'all_unique_objs' in t: print('All unique obj {}'.format(t['all_unique_objs']))\n",
    "    if 'ref_constraints' in t: print('Ref Constraint: {}'.format(t['ref_constraints']))\n",
    "    if 'ref_remark' in t: print(t['ref_remark'])\n",
    "    if 'remark' in t: print(t['remark'])\n",
    "        \n",
    "def load_file(file):\n",
    "    print(\"Loading template {}...\".format(file))\n",
    "    data = json.load(open(file))\n",
    "    return data \n",
    "    \n",
    "def save_file(data, file):\n",
    "    new_file = file.replace('_4.json', '_5.json')\n",
    "    print(\"Writing new template to {}...\".format(new_file))\n",
    "    json.dump(data, open(new_file, 'w'), indent=4)\n",
    "    \n",
    "def save_file2(data, file):\n",
    "    new_file = file.replace('_5.json', '_5.json')\n",
    "    print(\"Writing new template to {}...\".format(new_file))\n",
    "    json.dump(data, open(new_file, 'w'), indent=4)"
   ]
  },
  {
   "cell_type": "code",
   "execution_count": 28,
   "metadata": {},
   "outputs": [
    {
     "name": "stdout",
     "output_type": "stream",
     "text": [
      "Loading template zero_hop_5.json...\n",
      "===========zero_hop_5.json 19=========\n",
      "['What type of action does the <Z> <C> <M> <S> undertake <O> ?', 'What activity that the <Z> <C> <M> <S> perform <O> ?', 'What is the <Z> <C> <M> <S> doing <O> ?']\n",
      "0 {'inputs': [], 'type': 'scene'}\n",
      "1 {'side_inputs': ['<Z>', '<C>', '<M>', '<S>'], 'inputs': [0], 'type': 'filter_unique'}\n",
      "2 {'inputs': [1], 'type': 'query_action_order', 'side_inputs': ['<O>']}\n",
      "[{'type': 'Size', 'name': '<Z>'}, {'type': 'Color', 'name': '<C>'}, {'type': 'Material', 'name': '<M>'}, {'type': 'Shape', 'name': '<S>'}, {'type': 'Ordinal', 'name': '<O>'}]\n",
      "Constraint: [{'params': [[1, ['<Z>', '<C>', '<M>', '<S>']]], 'type': 'MINIMAL_ATTR'}, {'params': [1], 'type': 'UNIQUE_NEQ'}]\n",
      "Interval type compositional\n",
      "Unique obj [1, {'side_inputs': ['<Z>', '<C>', '<M>', '<S>'], 'inputs': [0], 'type': 'filter_unique'}]\n",
      "Answer obj None\n",
      "All unique obj [[1, {'side_inputs': ['<Z>', '<C>', '<M>', '<S>'], 'inputs': [0], 'type': 'filter_unique'}]]\n",
      "none\n",
      "===========zero_hop_5.json 19=========\n",
      "['What types of actions does the <Z> <C> <M> <S> undertake <F> ?', 'What activities that the <Z> <C> <M> <S> perform <F> ?']\n",
      "0 {'inputs': [], 'type': 'scene'}\n",
      "1 {'side_inputs': ['<Z>', '<C>', '<M>', '<S>'], 'inputs': [0], 'type': 'filter_unique'}\n",
      "2 {'inputs': [1], 'type': 'query_action_freq', 'side_inputs': ['<F>']}\n",
      "[{'type': 'Size', 'name': '<Z>'}, {'type': 'Color', 'name': '<C>'}, {'type': 'Material', 'name': '<M>'}, {'type': 'Shape', 'name': '<S>'}, {'type': 'Frequency', 'name': '<F>'}]\n",
      "Constraint: [{'params': [[1, ['<Z>', '<C>', '<M>', '<S>']]], 'type': 'MINIMAL_ATTR'}, {'params': [1], 'type': 'UNIQUE_NEQ'}]\n",
      "Interval type compositional\n",
      "Unique obj [1, {'side_inputs': ['<Z>', '<C>', '<M>', '<S>'], 'inputs': [0], 'type': 'filter_unique'}]\n",
      "Answer obj None\n",
      "All unique obj [[1, {'side_inputs': ['<Z>', '<C>', '<M>', '<S>'], 'inputs': [0], 'type': 'filter_unique'}]]\n",
      "none\n",
      "Writing new template to zero_hop_5.json...\n"
     ]
    }
   ],
   "source": [
    "#node_type_to_attribute = {'query_size': '<Z>', 'query_shape': '<S>', 'query_color': '<C>', 'query_material': '<M>'}\n",
    "#for file in glob.glob('*5.json'):\n",
    "for file in ['zero_hop_5.json']:\n",
    "    data = load_file(file)\n",
    "    for d_idx, d in enumerate(data):\n",
    "        if d_idx!=19: continue\n",
    "            \n",
    "        new_d = copy.deepcopy(d)\n",
    "        new_d['text'] = ['What type of action does the <Z> <C> <M> <S> undertake <O> ?', \n",
    "                         'What activity that the <Z> <C> <M> <S> perform <O> ?', \n",
    "                         'What is the <Z> <C> <M> <S> doing <O> ?']\n",
    "        new_d['nodes'][2]['type'] = 'query_action_order'\n",
    "        new_d['nodes'][2]['side_inputs'] = ['<O>']\n",
    "        new_d['params'].append({'type': 'Ordinal', 'name': '<O>'})\n",
    "        display_template(file, d_idx, new_d)\n",
    "        data.append(new_d)\n",
    "        \n",
    "        new_d = copy.deepcopy(d)\n",
    "        new_d['text'] = ['What types of actions does the <Z> <C> <M> <S> undertake <F> ?', \n",
    "                         'What activities that the <Z> <C> <M> <S> perform <F> ?']\n",
    "        new_d['nodes'][2]['type'] = 'query_action_freq'\n",
    "        new_d['nodes'][2]['side_inputs'] = ['<F>']\n",
    "        new_d['params'].append({'type': 'Frequency', 'name': '<F>'})\n",
    "        display_template(file, d_idx, new_d)\n",
    "        data.append(new_d)\n",
    "        \n",
    "    save_file2(data, file)"
   ]
  },
  {
   "cell_type": "code",
   "execution_count": null,
   "metadata": {},
   "outputs": [],
   "source": []
  }
 ],
 "metadata": {
  "bento_stylesheets": {
   "bento/extensions/flow/main.css": true,
   "bento/extensions/kernel_selector/main.css": true,
   "bento/extensions/kernel_ui/main.css": true,
   "bento/extensions/new_kernel/main.css": true,
   "bento/extensions/system_usage/main.css": true,
   "bento/extensions/theme/main.css": true
  },
  "hide_input": false,
  "kernelspec": {
   "display_name": "Python 3",
   "language": "python",
   "name": "bento_kernel_default"
  },
  "language_info": {
   "codemirror_mode": {
    "name": "ipython",
    "version": 3
   },
   "file_extension": ".py",
   "mimetype": "text/x-python",
   "name": "python",
   "nbconvert_exporter": "python",
   "pygments_lexer": "ipython3",
   "version": "3.7.5+"
  }
 },
 "nbformat": 4,
 "nbformat_minor": 2
}

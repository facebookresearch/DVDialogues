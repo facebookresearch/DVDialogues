{
 "cells": [
  {
   "cell_type": "code",
   "execution_count": null,
   "metadata": {},
   "outputs": [],
   "source": []
  },
  {
   "cell_type": "code",
   "execution_count": 1,
   "metadata": {},
   "outputs": [],
   "source": [
    "import json \n",
    "import pdb\n",
    "import copy\n",
    "import glob \n",
    "import pandas as pd"
   ]
  },
  {
   "cell_type": "code",
   "execution_count": 2,
   "metadata": {},
   "outputs": [],
   "source": [
    "def display_template(file, idx, t):\n",
    "    print('==========={} {}========='.format(file, idx))\n",
    "    print(t['text']) \n",
    "    \n",
    "    for idx, n in enumerate(t['nodes']):\n",
    "        print(idx, n)\n",
    "    print(t['constraints'])\n",
    "    #if 'interval_type' in t: \n",
    "    print('Interval type {}'.format(t['interval_type']))\n",
    "    if 'unique_obj' in t: print('Unique obj {}'.format(t['unique_obj']))\n",
    "    if 'answer_obj' in t: print('Answer obj {}'.format(t['answer_obj']))\n",
    "    if 'all_unique_objs' in t: print('All unique obj {}'.format(t['all_unique_objs']))\n",
    "    if 'ref_constraints' in t: print('Ref Constraint: {}'.format(t['ref_constraints']))\n",
    "    if 'ref_remark' in t: print(t['ref_remark'])\n",
    "    if 'remark' in t: print(t['remark'])"
   ]
  },
  {
   "cell_type": "code",
   "execution_count": 3,
   "metadata": {},
   "outputs": [],
   "source": [
    "def load_file(file):\n",
    "    print(\"Loading template {}...\".format(file))\n",
    "    data = json.load(open(file))\n",
    "    return data \n",
    "    \n",
    "def save_file(data, file):\n",
    "    new_file = file.replace('_4.json', '_5.json')\n",
    "    print(\"Writing new template to {}...\".format(new_file))\n",
    "    json.dump(data, open(new_file, 'w'), indent=4)\n",
    "    \n",
    "def save_file2(data, file):\n",
    "    new_file = file.replace('_5.json', '_5.json')\n",
    "    print(\"Writing new template to {}...\".format(new_file))\n",
    "    json.dump(data, open(new_file, 'w'), indent=4)"
   ]
  },
  {
   "cell_type": "code",
   "execution_count": 4,
   "metadata": {},
   "outputs": [],
   "source": [
    "def count_unique(d):\n",
    "    count = 0 \n",
    "    for n in d['nodes']:\n",
    "        if 'unique' in n['type']:\n",
    "            count += 1\n",
    "    return count"
   ]
  },
  {
   "cell_type": "code",
   "execution_count": 5,
   "metadata": {},
   "outputs": [],
   "source": [
    "def get_unique_obj(d):\n",
    "    for idx, n in enumerate(d['nodes']):\n",
    "        if 'unique' in n['type']:\n",
    "            return (idx,n)"
   ]
  },
  {
   "cell_type": "code",
   "execution_count": 6,
   "metadata": {},
   "outputs": [],
   "source": [
    "def get_unique_output_obj(d, last_node_only=False):\n",
    "    for idx, n in enumerate(d['nodes']):\n",
    "        if last_node_only and idx!= len(d['nodes'])-1:\n",
    "            continue \n",
    "        if 'filter_count' in n['type']:\n",
    "            return (idx, n)\n",
    "        if 'filter_exist' in n['type']:\n",
    "            return (idx, n)\n",
    "        if n['type'] == 'exist':\n",
    "            return (idx, n)\n",
    "        if n['type'] == 'count':\n",
    "            return (idx, n)\n",
    "    return None "
   ]
  },
  {
   "cell_type": "code",
   "execution_count": 7,
   "metadata": {},
   "outputs": [],
   "source": [
    "def same_relate_obj(idx, nodes):\n",
    "    return idx>0 and 'same_' in nodes[idx-1]['type'] and 'query_' in nodes[idx+1]['type']\n",
    "\n",
    "def spatial_relate_obj(node):\n",
    "    return  node['type'] == 'relate_action_filter_unique'"
   ]
  },
  {
   "cell_type": "code",
   "execution_count": 9,
   "metadata": {},
   "outputs": [],
   "source": [
    "def get_all_unique_objs(d, multi_objs=False):\n",
    "    out = []\n",
    "    for idx, n in enumerate(d['nodes']):\n",
    "        if 'unique' in n['type']: # and 'relate' not in n['type']:\n",
    "            if multi_objs:\n",
    "                if same_relate_obj(idx, d['nodes']) or spatial_relate_obj(n):\n",
    "                    out.append((idx, n, 'ans'))\n",
    "                else:\n",
    "                    out.append((idx, n, None))\n",
    "            else:\n",
    "                out.append((idx, n))\n",
    "    return out "
   ]
  },
  {
   "cell_type": "code",
   "execution_count": 8,
   "metadata": {},
   "outputs": [],
   "source": [
    "def is_exist(d):\n",
    "    return 'exist' in d['nodes'][-1]['type']"
   ]
  },
  {
   "cell_type": "code",
   "execution_count": null,
   "metadata": {},
   "outputs": [],
   "source": []
  },
  {
   "cell_type": "code",
   "execution_count": 9,
   "metadata": {},
   "outputs": [
    {
     "name": "stdout",
     "output_type": "stream",
     "text": [
      "Loading template compare_integer_5.json...\n",
      "Loading template comparison_5.json...\n",
      "Loading template one_hop_5.json...\n",
      "Loading template same_relate_5.json...\n",
      "Loading template zero_hop_5.json...\n",
      "26\n"
     ]
    }
   ],
   "source": [
    "node_type_to_attribute = {'query_size': '<Z>', 'query_shape': '<S>', 'query_color': '<C>', 'query_material': '<M>'}\n",
    "count = 0\n",
    "for file in glob.glob('*5.json'):\n",
    "    data = load_file(file)\n",
    "    new_data = []\n",
    "    for d_idx, d in enumerate(data):\n",
    "        #if d['nodes'][-1]['type'] in node_type_to_attribute and d['interval_type']!='none':\n",
    "        #display_template(file, d_idx, d)\n",
    "        count += 1 \n",
    "        #else:\n",
    "        #    new_data.append(d)\n",
    "    #save_file2(new_data, file)\n",
    "print(count)"
   ]
  },
  {
   "cell_type": "code",
   "execution_count": 12,
   "metadata": {},
   "outputs": [
    {
     "name": "stdout",
     "output_type": "stream",
     "text": [
      "Loading template compare_integer_5.json...\n",
      "Loading template comparison_5.json...\n",
      "Loading template one_hop_5.json...\n",
      "Loading template same_relate_5.json...\n",
      "Loading template zero_hop_5.json...\n"
     ]
    }
   ],
   "source": [
    "filename = []\n",
    "template_idx = []\n",
    "text = []\n",
    "qtypes = []\n",
    "interval_types = []\n",
    "all_constraints = set()\n",
    "for file in glob.glob('*5.json'):\n",
    "    data = load_file(file)\n",
    "    for d_idx, d in enumerate(data):\n",
    "        #display_template(file, d_idx, d)   \n",
    "        #pdb.set_trace()\n",
    "        filename.append(file)\n",
    "        template_idx.append(d_idx)\n",
    "        text.append(\"\\n\".join(d['text']))\n",
    "        if 'Is there' in d['text'][0]:\n",
    "            qtype = 'exist'\n",
    "        elif 'How many' in d['text'][0] or 'What number' in d['text'][0]:\n",
    "            qtype = 'count'\n",
    "        elif 'What' in d['text'][0]:\n",
    "            qtype = 'query'\n",
    "        elif 'compare_int' in file:\n",
    "            qtype = 'compare_integer'\n",
    "        elif 'comparison' in file:\n",
    "            qtype = 'comparison'\n",
    "        qtypes.append(qtype)\n",
    "        interval_types.append(d['interval_type'])\n",
    "        for ct in d['constraints']:\n",
    "            all_constraints.add(ct['type'])\n",
    "        \n",
    "out = {\n",
    "    #\"filename\": filename,\n",
    "    #\"template_idx\": template_idx,\n",
    "    \"question_category\": qtypes, \n",
    "    \"interval_category\": interval_types,\n",
    "    \"text\": text\n",
    "}    \n",
    "df = pd.DataFrame.from_dict(out)\n",
    "df.to_excel('templates_sheet.xlsx')"
   ]
  },
  {
   "cell_type": "code",
   "execution_count": 13,
   "metadata": {},
   "outputs": [
    {
     "data": {
      "application/vnd.dataresource+json": {
       "data": [
        {
         "index": 0,
         "interval_category": "compositional",
         "question_category": "compare_integer",
         "text": "Does the <Z> <C> <M> <S> <A> as frequently as the <Z2> <C2> <M2> <S2> <A2>?"
        },
        {
         "index": 1,
         "interval_category": "compositional",
         "question_category": "compare_integer",
         "text": "Does the <Z> <C> <M> <S> <A> less frequently than the <Z2> <C2> <M2> <S2> <A2>?"
        },
        {
         "index": 2,
         "interval_category": "compositional",
         "question_category": "compare_integer",
         "text": "Does the <Z> <C> <M> <S> <A> more frequently than the <Z2> <C2> <M2> <S2> <A2>?"
        },
        {
         "index": 3,
         "interval_category": "compositional",
         "question_category": "comparison",
         "text": "Do the <Z> <C> <M> <S> and the <Z2> <C2> <M2> <S2> perform the same set of activities?\nDo the <Z> <C> <M> <S> and the <Z2> <C2> <M2> <S2> undertake the same types of actions?\nDoes the <Z> <C> <M> <S> perform the same set of activities as the <Z2> <C2> <M2> <S2>?\nDoes the <Z> <C> <M> <S> undertake the same types of actions as the <Z2> <C2> <M2> <S2>?"
        },
        {
         "index": 4,
         "interval_category": "compositional",
         "question_category": "comparison",
         "text": "Do the <Z> <C> <M> <S> and the <Z2> <C2> <M2> <S2> perform the same sequence of activities?\nDoes the <Z> <C> <M> <S> perform the same sequence of activities as the <Z2> <C2> <M2> <S2>?"
        },
        {
         "index": 5,
         "interval_category": "atomic",
         "question_category": "count",
         "text": "What number of <A2> <Z2> <C2> <M2> <S2>s are <R> the <Z> <C> <M> <S>?\nHow many <A2> <Z2> <C2> <M2> <S2>s are <R> the <Z> <C> <M> <S>?"
        },
        {
         "index": 6,
         "interval_category": "atomic",
         "question_category": "exist",
         "text": "Is there any <A2> <Z2> <C2> <M2> <S2> <R> the <Z> <C> <M> <S>?"
        },
        {
         "index": 7,
         "interval_category": "atomic",
         "question_category": "query",
         "text": "What is the <A2> <Z2> <C2> <M2> <S2> [that is] <R> the <Z> <C> <M> <S> doing?\nWhat action does the <A2> <Z2> <C2> <M2> <S2> [that is] <R> the <Z> <C> <M> <S> undertake?\nWhat activity does the <A2> <Z2> <C2> <M2> <S2> [that is] <R> the <Z> <C> <M> <S> perform?"
        },
        {
         "index": 8,
         "interval_category": "compositional",
         "question_category": "exist",
         "text": "Is there anything else that performs the same set of activities as the <Z> <C> <M> <S>?\nIs there any other thing that has the same types of actions as the <Z> <C> <M> <S>?\nIs there any other thing with the same set of activities performed by the <Z> <C> <M> <S>?\nIs there any other object that has the same types of actions as the <Z> <C> <M> <S>?\nIs there any other object with the same set of activities performed by the <Z> <C> <M> <S>?"
        },
        {
         "index": 9,
         "interval_category": "compositional",
         "question_category": "exist",
         "text": "Is there anything else that performs the same sequence of activities as the <Z> <C> <M> <S>?\nIs there any other thing with the same sequence of activities performed by the <Z> <C> <M> <S>?\nIs there any other object with the same sequence of activities performed by the <Z> <C> <M> <S>?"
        },
        {
         "index": 10,
         "interval_category": "compositional",
         "question_category": "count",
         "text": "How many other things perform the same set of activities as the <Z> <C> <M> <S>?\nHow many other things undertake the same types of actions as the <Z> <C> <M> <S>?\nHow many other things with the same set of activities performed by the <Z> <C> <M> <S>?\nHow many other objects perform the same set of activities as the <Z> <C> <M> <S>?\nHow many other objects undertake the same types of actions as the <Z> <C> <M> <S>?\nHow many other objects with the same set of activities performed by the <Z> <C> <M> <S>?"
        },
        {
         "index": 11,
         "interval_category": "compositional",
         "question_category": "count",
         "text": "How many other things perform the same sequence of activities as the <Z> <C> <M> <S>?\nHow many other things with the same sequence activities performed by the <Z> <C> <M> <S>?\nHow many other objects perform the same sequence of activities as the <Z> <C> <M> <S>?\nHow many other objects with the same sequence of activities performed by the <Z> <C> <M> <S>?"
        },
        {
         "index": 12,
         "interval_category": "none",
         "question_category": "count",
         "text": "How many <Z> <C> <M> <S>s are there?\nWhat number of <Z> <C> <M> <S>s are there?"
        },
        {
         "index": 13,
         "interval_category": "atomic",
         "question_category": "count",
         "text": "How many <A> <Z> <C> <M> <S>s are there?\nWhat number of <A> <Z> <C> <M> <S>s are there?"
        },
        {
         "index": 14,
         "interval_category": "none",
         "question_category": "exist",
         "text": "Is there any <Z> <C> <M> <S>?\nIs there a <Z> <C> <M> <S>?"
        },
        {
         "index": 15,
         "interval_category": "atomic",
         "question_category": "exist",
         "text": "Is there any <A> <Z> <C> <M> <S>?\nIs there a <A> <Z> <C> <M> <S>?"
        },
        {
         "index": 16,
         "interval_category": "none",
         "question_category": "query",
         "text": "What shape is the <Z> <C> <M> <S>?\nWhat is the shape of the <Z> <C> <M> <S>?\nWhat is the shape of the <Z> <C> <M> <S>?"
        },
        {
         "index": 17,
         "interval_category": "none",
         "question_category": "query",
         "text": "What material is the <Z> <C> <M> <S>?\nWhat is the material of the <Z> <C> <M> <S>?\nWhat is the <Z> <C> <M> <S> made of?"
        },
        {
         "index": 18,
         "interval_category": "none",
         "question_category": "query",
         "text": "What color is the <Z> <C> <M> <S>?\nWhat is the color of the <Z> <C> <M> <S>?"
        },
        {
         "index": 19,
         "interval_category": "none",
         "question_category": "query",
         "text": "What size is the <Z> <C> <M> <S>?\nWhat is the size of the <Z> <C> <M> <S>?\nHow big is the <Z> <C> <M> <S>?"
        },
        {
         "index": 20,
         "interval_category": "compositional",
         "question_category": "count",
         "text": "How many <A> <Z> <C> <M> <S>s are there?\nWhat number of <A> <Z> <C> <M> <S>s are there?"
        },
        {
         "index": 21,
         "interval_category": "compositional",
         "question_category": "exist",
         "text": "Is there any <A> <Z> <C> <M> <S>?\nIs there a <A> <Z> <C> <M> <S>?"
        },
        {
         "index": 22,
         "interval_category": "compositional",
         "question_category": "count",
         "text": "How many times does the <Z> <C> <M> <S> <A>?\nHow many times does the <Z> <C> <M> <S> <A> in total?"
        },
        {
         "index": 23,
         "interval_category": "compositional",
         "question_category": "query",
         "text": "What types of actions does the <Z> <C> <M> <S> undertake?\nWhat are the activities that the <Z> <C> <M> <S> perform?\nWhat is the <Z> <C> <M> <S> doing?"
        },
        {
         "index": 24,
         "interval_category": "compositional",
         "question_category": "query",
         "text": "What type of action does the <Z> <C> <M> <S> undertake <O> ?\nWhat activity that the <Z> <C> <M> <S> perform <O> ?\nWhat is the <Z> <C> <M> <S> doing <O> ?"
        },
        {
         "index": 25,
         "interval_category": "compositional",
         "question_category": "query",
         "text": "What types of actions does the <Z> <C> <M> <S> undertake <F> ?\nWhat activities that the <Z> <C> <M> <S> perform <F> ?"
        }
       ],
       "schema": {
        "fields": [
         {
          "name": "index",
          "type": "integer"
         },
         {
          "name": "question_category",
          "type": "string"
         },
         {
          "name": "interval_category",
          "type": "string"
         },
         {
          "name": "text",
          "type": "string"
         }
        ],
        "pandas_version": "0.20.0",
        "primaryKey": [
         "index"
        ]
       }
      },
      "text/html": [
       "<div>\n",
       "<style scoped>\n",
       "    .dataframe tbody tr th:only-of-type {\n",
       "        vertical-align: middle;\n",
       "    }\n",
       "\n",
       "    .dataframe tbody tr th {\n",
       "        vertical-align: top;\n",
       "    }\n",
       "\n",
       "    .dataframe thead th {\n",
       "        text-align: right;\n",
       "    }\n",
       "</style>\n",
       "<table border=\"1\" class=\"dataframe\">\n",
       "  <thead>\n",
       "    <tr style=\"text-align: right;\">\n",
       "      <th></th>\n",
       "      <th>question_category</th>\n",
       "      <th>interval_category</th>\n",
       "      <th>text</th>\n",
       "    </tr>\n",
       "  </thead>\n",
       "  <tbody>\n",
       "    <tr>\n",
       "      <th>0</th>\n",
       "      <td>compare_integer</td>\n",
       "      <td>compositional</td>\n",
       "      <td>Does the &lt;Z&gt; &lt;C&gt; &lt;M&gt; &lt;S&gt; &lt;A&gt; as frequently as ...</td>\n",
       "    </tr>\n",
       "    <tr>\n",
       "      <th>1</th>\n",
       "      <td>compare_integer</td>\n",
       "      <td>compositional</td>\n",
       "      <td>Does the &lt;Z&gt; &lt;C&gt; &lt;M&gt; &lt;S&gt; &lt;A&gt; less frequently t...</td>\n",
       "    </tr>\n",
       "    <tr>\n",
       "      <th>2</th>\n",
       "      <td>compare_integer</td>\n",
       "      <td>compositional</td>\n",
       "      <td>Does the &lt;Z&gt; &lt;C&gt; &lt;M&gt; &lt;S&gt; &lt;A&gt; more frequently t...</td>\n",
       "    </tr>\n",
       "    <tr>\n",
       "      <th>3</th>\n",
       "      <td>comparison</td>\n",
       "      <td>compositional</td>\n",
       "      <td>Do the &lt;Z&gt; &lt;C&gt; &lt;M&gt; &lt;S&gt; and the &lt;Z2&gt; &lt;C2&gt; &lt;M2&gt; ...</td>\n",
       "    </tr>\n",
       "    <tr>\n",
       "      <th>4</th>\n",
       "      <td>comparison</td>\n",
       "      <td>compositional</td>\n",
       "      <td>Do the &lt;Z&gt; &lt;C&gt; &lt;M&gt; &lt;S&gt; and the &lt;Z2&gt; &lt;C2&gt; &lt;M2&gt; ...</td>\n",
       "    </tr>\n",
       "    <tr>\n",
       "      <th>5</th>\n",
       "      <td>count</td>\n",
       "      <td>atomic</td>\n",
       "      <td>What number of &lt;A2&gt; &lt;Z2&gt; &lt;C2&gt; &lt;M2&gt; &lt;S2&gt;s are &lt;...</td>\n",
       "    </tr>\n",
       "    <tr>\n",
       "      <th>6</th>\n",
       "      <td>exist</td>\n",
       "      <td>atomic</td>\n",
       "      <td>Is there any &lt;A2&gt; &lt;Z2&gt; &lt;C2&gt; &lt;M2&gt; &lt;S2&gt; &lt;R&gt; the ...</td>\n",
       "    </tr>\n",
       "    <tr>\n",
       "      <th>7</th>\n",
       "      <td>query</td>\n",
       "      <td>atomic</td>\n",
       "      <td>What is the &lt;A2&gt; &lt;Z2&gt; &lt;C2&gt; &lt;M2&gt; &lt;S2&gt; [that is]...</td>\n",
       "    </tr>\n",
       "    <tr>\n",
       "      <th>8</th>\n",
       "      <td>exist</td>\n",
       "      <td>compositional</td>\n",
       "      <td>Is there anything else that performs the same ...</td>\n",
       "    </tr>\n",
       "    <tr>\n",
       "      <th>9</th>\n",
       "      <td>exist</td>\n",
       "      <td>compositional</td>\n",
       "      <td>Is there anything else that performs the same ...</td>\n",
       "    </tr>\n",
       "    <tr>\n",
       "      <th>10</th>\n",
       "      <td>count</td>\n",
       "      <td>compositional</td>\n",
       "      <td>How many other things perform the same set of ...</td>\n",
       "    </tr>\n",
       "    <tr>\n",
       "      <th>11</th>\n",
       "      <td>count</td>\n",
       "      <td>compositional</td>\n",
       "      <td>How many other things perform the same sequenc...</td>\n",
       "    </tr>\n",
       "    <tr>\n",
       "      <th>12</th>\n",
       "      <td>count</td>\n",
       "      <td>none</td>\n",
       "      <td>How many &lt;Z&gt; &lt;C&gt; &lt;M&gt; &lt;S&gt;s are there?\\nWhat num...</td>\n",
       "    </tr>\n",
       "    <tr>\n",
       "      <th>13</th>\n",
       "      <td>count</td>\n",
       "      <td>atomic</td>\n",
       "      <td>How many &lt;A&gt; &lt;Z&gt; &lt;C&gt; &lt;M&gt; &lt;S&gt;s are there?\\nWhat...</td>\n",
       "    </tr>\n",
       "    <tr>\n",
       "      <th>14</th>\n",
       "      <td>exist</td>\n",
       "      <td>none</td>\n",
       "      <td>Is there any &lt;Z&gt; &lt;C&gt; &lt;M&gt; &lt;S&gt;?\\nIs there a &lt;Z&gt; ...</td>\n",
       "    </tr>\n",
       "    <tr>\n",
       "      <th>15</th>\n",
       "      <td>exist</td>\n",
       "      <td>atomic</td>\n",
       "      <td>Is there any &lt;A&gt; &lt;Z&gt; &lt;C&gt; &lt;M&gt; &lt;S&gt;?\\nIs there a ...</td>\n",
       "    </tr>\n",
       "    <tr>\n",
       "      <th>16</th>\n",
       "      <td>query</td>\n",
       "      <td>none</td>\n",
       "      <td>What shape is the &lt;Z&gt; &lt;C&gt; &lt;M&gt; &lt;S&gt;?\\nWhat is th...</td>\n",
       "    </tr>\n",
       "    <tr>\n",
       "      <th>17</th>\n",
       "      <td>query</td>\n",
       "      <td>none</td>\n",
       "      <td>What material is the &lt;Z&gt; &lt;C&gt; &lt;M&gt; &lt;S&gt;?\\nWhat is...</td>\n",
       "    </tr>\n",
       "    <tr>\n",
       "      <th>18</th>\n",
       "      <td>query</td>\n",
       "      <td>none</td>\n",
       "      <td>What color is the &lt;Z&gt; &lt;C&gt; &lt;M&gt; &lt;S&gt;?\\nWhat is th...</td>\n",
       "    </tr>\n",
       "    <tr>\n",
       "      <th>19</th>\n",
       "      <td>query</td>\n",
       "      <td>none</td>\n",
       "      <td>What size is the &lt;Z&gt; &lt;C&gt; &lt;M&gt; &lt;S&gt;?\\nWhat is the...</td>\n",
       "    </tr>\n",
       "    <tr>\n",
       "      <th>20</th>\n",
       "      <td>count</td>\n",
       "      <td>compositional</td>\n",
       "      <td>How many &lt;A&gt; &lt;Z&gt; &lt;C&gt; &lt;M&gt; &lt;S&gt;s are there?\\nWhat...</td>\n",
       "    </tr>\n",
       "    <tr>\n",
       "      <th>21</th>\n",
       "      <td>exist</td>\n",
       "      <td>compositional</td>\n",
       "      <td>Is there any &lt;A&gt; &lt;Z&gt; &lt;C&gt; &lt;M&gt; &lt;S&gt;?\\nIs there a ...</td>\n",
       "    </tr>\n",
       "    <tr>\n",
       "      <th>22</th>\n",
       "      <td>count</td>\n",
       "      <td>compositional</td>\n",
       "      <td>How many times does the &lt;Z&gt; &lt;C&gt; &lt;M&gt; &lt;S&gt; &lt;A&gt;?\\n...</td>\n",
       "    </tr>\n",
       "    <tr>\n",
       "      <th>23</th>\n",
       "      <td>query</td>\n",
       "      <td>compositional</td>\n",
       "      <td>What types of actions does the &lt;Z&gt; &lt;C&gt; &lt;M&gt; &lt;S&gt;...</td>\n",
       "    </tr>\n",
       "    <tr>\n",
       "      <th>24</th>\n",
       "      <td>query</td>\n",
       "      <td>compositional</td>\n",
       "      <td>What type of action does the &lt;Z&gt; &lt;C&gt; &lt;M&gt; &lt;S&gt; u...</td>\n",
       "    </tr>\n",
       "    <tr>\n",
       "      <th>25</th>\n",
       "      <td>query</td>\n",
       "      <td>compositional</td>\n",
       "      <td>What types of actions does the &lt;Z&gt; &lt;C&gt; &lt;M&gt; &lt;S&gt;...</td>\n",
       "    </tr>\n",
       "  </tbody>\n",
       "</table>\n",
       "</div>"
      ],
      "text/plain": [
       "   question_category  ...                                               text\n",
       "0    compare_integer  ...  Does the <Z> <C> <M> <S> <A> as frequently as ...\n",
       "1    compare_integer  ...  Does the <Z> <C> <M> <S> <A> less frequently t...\n",
       "2    compare_integer  ...  Does the <Z> <C> <M> <S> <A> more frequently t...\n",
       "3         comparison  ...  Do the <Z> <C> <M> <S> and the <Z2> <C2> <M2> ...\n",
       "4         comparison  ...  Do the <Z> <C> <M> <S> and the <Z2> <C2> <M2> ...\n",
       "5              count  ...  What number of <A2> <Z2> <C2> <M2> <S2>s are <...\n",
       "6              exist  ...  Is there any <A2> <Z2> <C2> <M2> <S2> <R> the ...\n",
       "7              query  ...  What is the <A2> <Z2> <C2> <M2> <S2> [that is]...\n",
       "8              exist  ...  Is there anything else that performs the same ...\n",
       "9              exist  ...  Is there anything else that performs the same ...\n",
       "10             count  ...  How many other things perform the same set of ...\n",
       "11             count  ...  How many other things perform the same sequenc...\n",
       "12             count  ...  How many <Z> <C> <M> <S>s are there?\\nWhat num...\n",
       "13             count  ...  How many <A> <Z> <C> <M> <S>s are there?\\nWhat...\n",
       "14             exist  ...  Is there any <Z> <C> <M> <S>?\\nIs there a <Z> ...\n",
       "15             exist  ...  Is there any <A> <Z> <C> <M> <S>?\\nIs there a ...\n",
       "16             query  ...  What shape is the <Z> <C> <M> <S>?\\nWhat is th...\n",
       "17             query  ...  What material is the <Z> <C> <M> <S>?\\nWhat is...\n",
       "18             query  ...  What color is the <Z> <C> <M> <S>?\\nWhat is th...\n",
       "19             query  ...  What size is the <Z> <C> <M> <S>?\\nWhat is the...\n",
       "20             count  ...  How many <A> <Z> <C> <M> <S>s are there?\\nWhat...\n",
       "21             exist  ...  Is there any <A> <Z> <C> <M> <S>?\\nIs there a ...\n",
       "22             count  ...  How many times does the <Z> <C> <M> <S> <A>?\\n...\n",
       "23             query  ...  What types of actions does the <Z> <C> <M> <S>...\n",
       "24             query  ...  What type of action does the <Z> <C> <M> <S> u...\n",
       "25             query  ...  What types of actions does the <Z> <C> <M> <S>...\n",
       "\n",
       "[26 rows x 3 columns]"
      ]
     },
     "execution_count": 13,
     "metadata": {
      "bento_obj_id": "140275869743568"
     },
     "output_type": "execute_result"
    }
   ],
   "source": [
    "df"
   ]
  },
  {
   "cell_type": "code",
   "execution_count": 14,
   "metadata": {},
   "outputs": [],
   "source": [
    "data = json.load(open('synonyms.json'))\n",
    "original = []\n",
    "synonyms = []\n",
    "for k,vs in data.items():\n",
    "    original.append(k)\n",
    "    synonyms.append('\\n'.join(vs))\n",
    "out = {\n",
    "    'original': original,\n",
    "    'synonyms': synonyms\n",
    "}\n",
    "df = pd.DataFrame.from_dict(out)\n",
    "df.to_excel('synonyms.xlsx')"
   ]
  },
  {
   "cell_type": "code",
   "execution_count": 15,
   "metadata": {},
   "outputs": [
    {
     "data": {
      "application/vnd.dataresource+json": {
       "data": [
        {
         "index": 0,
         "original": "thing",
         "synonyms": "thing\nobject"
        },
        {
         "index": 1,
         "original": "sphere",
         "synonyms": "sphere\nball"
        },
        {
         "index": 2,
         "original": "cube",
         "synonyms": "cube\nblock"
        },
        {
         "index": 3,
         "original": "spl",
         "synonyms": "snitch"
        },
        {
         "index": 4,
         "original": "large",
         "synonyms": "large\nbig"
        },
        {
         "index": 5,
         "original": "small",
         "synonyms": "small"
        },
        {
         "index": 6,
         "original": "medium",
         "synonyms": "average"
        },
        {
         "index": 7,
         "original": "metal",
         "synonyms": "metallic\nmetal\nshiny"
        },
        {
         "index": 8,
         "original": "rubber",
         "synonyms": "rubber\nmatte"
        },
        {
         "index": 9,
         "original": "static",
         "synonyms": "stationary"
        },
        {
         "index": 10,
         "original": "flying",
         "synonyms": "flying"
        },
        {
         "index": 11,
         "original": "rotating",
         "synonyms": "rotating\nspinning"
        },
        {
         "index": 12,
         "original": "sliding",
         "synonyms": "sliding"
        },
        {
         "index": 13,
         "original": "moving",
         "synonyms": "moving"
        },
        {
         "index": 14,
         "original": "left",
         "synonyms": "left of\nto the left of\non the left side of"
        },
        {
         "index": 15,
         "original": "right",
         "synonyms": "right of\nto the right of\non the right side of"
        },
        {
         "index": 16,
         "original": "behind",
         "synonyms": "behind"
        },
        {
         "index": 17,
         "original": "front",
         "synonyms": "in front of"
        },
        {
         "index": 18,
         "original": "contained",
         "synonyms": "contained"
        },
        {
         "index": 19,
         "original": "above",
         "synonyms": "above"
        },
        {
         "index": 20,
         "original": "below",
         "synonyms": "below"
        },
        {
         "index": 21,
         "original": "whole video",
         "synonyms": "during the whole video\nthroughout the whole video"
        },
        {
         "index": 22,
         "original": "during",
         "synonyms": "during the same time window\nduring the same time period\nduring this time window\nduring this time period"
        },
        {
         "index": 23,
         "original": "before",
         "synonyms": "before this time window\nbefore this time period\nprior to this time window\nprior to this time period"
        },
        {
         "index": 24,
         "original": "after",
         "synonyms": "after this time window\nafter this time period"
        },
        {
         "index": 25,
         "original": "excluding",
         "synonyms": "excluding this time interval\nexcluding this time window\nexcluding this time period"
        },
        {
         "index": 26,
         "original": "video_update",
         "synonyms": "what about up until now ? \nhow about up until now ?"
        },
        {
         "index": 27,
         "original": "<it>",
         "synonyms": "that object\nthat thing"
        },
        {
         "index": 28,
         "original": "<given>",
         "synonyms": "given\nconsidering"
        },
        {
         "index": 29,
         "original": "<link>",
         "synonyms": "and\n"
        },
        {
         "index": 30,
         "original": "<among>",
         "synonyms": "among"
        },
        {
         "index": 31,
         "original": "<earlier>",
         "synonyms": "earlier mentioned\naforementioned"
        },
        {
         "index": 32,
         "original": "moving actions",
         "synonyms": "movements\nmoves\nactivities"
        },
        {
         "index": 33,
         "original": "move",
         "synonyms": "move\naction\nactivity\nmovement"
        }
       ],
       "schema": {
        "fields": [
         {
          "name": "index",
          "type": "integer"
         },
         {
          "name": "original",
          "type": "string"
         },
         {
          "name": "synonyms",
          "type": "string"
         }
        ],
        "pandas_version": "0.20.0",
        "primaryKey": [
         "index"
        ]
       }
      },
      "text/html": [
       "<div>\n",
       "<style scoped>\n",
       "    .dataframe tbody tr th:only-of-type {\n",
       "        vertical-align: middle;\n",
       "    }\n",
       "\n",
       "    .dataframe tbody tr th {\n",
       "        vertical-align: top;\n",
       "    }\n",
       "\n",
       "    .dataframe thead th {\n",
       "        text-align: right;\n",
       "    }\n",
       "</style>\n",
       "<table border=\"1\" class=\"dataframe\">\n",
       "  <thead>\n",
       "    <tr style=\"text-align: right;\">\n",
       "      <th></th>\n",
       "      <th>original</th>\n",
       "      <th>synonyms</th>\n",
       "    </tr>\n",
       "  </thead>\n",
       "  <tbody>\n",
       "    <tr>\n",
       "      <th>0</th>\n",
       "      <td>thing</td>\n",
       "      <td>thing\\nobject</td>\n",
       "    </tr>\n",
       "    <tr>\n",
       "      <th>1</th>\n",
       "      <td>sphere</td>\n",
       "      <td>sphere\\nball</td>\n",
       "    </tr>\n",
       "    <tr>\n",
       "      <th>2</th>\n",
       "      <td>cube</td>\n",
       "      <td>cube\\nblock</td>\n",
       "    </tr>\n",
       "    <tr>\n",
       "      <th>3</th>\n",
       "      <td>spl</td>\n",
       "      <td>snitch</td>\n",
       "    </tr>\n",
       "    <tr>\n",
       "      <th>4</th>\n",
       "      <td>large</td>\n",
       "      <td>large\\nbig</td>\n",
       "    </tr>\n",
       "    <tr>\n",
       "      <th>5</th>\n",
       "      <td>small</td>\n",
       "      <td>small</td>\n",
       "    </tr>\n",
       "    <tr>\n",
       "      <th>6</th>\n",
       "      <td>medium</td>\n",
       "      <td>average</td>\n",
       "    </tr>\n",
       "    <tr>\n",
       "      <th>7</th>\n",
       "      <td>metal</td>\n",
       "      <td>metallic\\nmetal\\nshiny</td>\n",
       "    </tr>\n",
       "    <tr>\n",
       "      <th>8</th>\n",
       "      <td>rubber</td>\n",
       "      <td>rubber\\nmatte</td>\n",
       "    </tr>\n",
       "    <tr>\n",
       "      <th>9</th>\n",
       "      <td>static</td>\n",
       "      <td>stationary</td>\n",
       "    </tr>\n",
       "    <tr>\n",
       "      <th>10</th>\n",
       "      <td>flying</td>\n",
       "      <td>flying</td>\n",
       "    </tr>\n",
       "    <tr>\n",
       "      <th>11</th>\n",
       "      <td>rotating</td>\n",
       "      <td>rotating\\nspinning</td>\n",
       "    </tr>\n",
       "    <tr>\n",
       "      <th>12</th>\n",
       "      <td>sliding</td>\n",
       "      <td>sliding</td>\n",
       "    </tr>\n",
       "    <tr>\n",
       "      <th>13</th>\n",
       "      <td>moving</td>\n",
       "      <td>moving</td>\n",
       "    </tr>\n",
       "    <tr>\n",
       "      <th>14</th>\n",
       "      <td>left</td>\n",
       "      <td>left of\\nto the left of\\non the left side of</td>\n",
       "    </tr>\n",
       "    <tr>\n",
       "      <th>15</th>\n",
       "      <td>right</td>\n",
       "      <td>right of\\nto the right of\\non the right side of</td>\n",
       "    </tr>\n",
       "    <tr>\n",
       "      <th>16</th>\n",
       "      <td>behind</td>\n",
       "      <td>behind</td>\n",
       "    </tr>\n",
       "    <tr>\n",
       "      <th>17</th>\n",
       "      <td>front</td>\n",
       "      <td>in front of</td>\n",
       "    </tr>\n",
       "    <tr>\n",
       "      <th>18</th>\n",
       "      <td>contained</td>\n",
       "      <td>contained</td>\n",
       "    </tr>\n",
       "    <tr>\n",
       "      <th>19</th>\n",
       "      <td>above</td>\n",
       "      <td>above</td>\n",
       "    </tr>\n",
       "    <tr>\n",
       "      <th>20</th>\n",
       "      <td>below</td>\n",
       "      <td>below</td>\n",
       "    </tr>\n",
       "    <tr>\n",
       "      <th>21</th>\n",
       "      <td>whole video</td>\n",
       "      <td>during the whole video\\nthroughout the whole v...</td>\n",
       "    </tr>\n",
       "    <tr>\n",
       "      <th>22</th>\n",
       "      <td>during</td>\n",
       "      <td>during the same time window\\nduring the same t...</td>\n",
       "    </tr>\n",
       "    <tr>\n",
       "      <th>23</th>\n",
       "      <td>before</td>\n",
       "      <td>before this time window\\nbefore this time peri...</td>\n",
       "    </tr>\n",
       "    <tr>\n",
       "      <th>24</th>\n",
       "      <td>after</td>\n",
       "      <td>after this time window\\nafter this time period</td>\n",
       "    </tr>\n",
       "    <tr>\n",
       "      <th>25</th>\n",
       "      <td>excluding</td>\n",
       "      <td>excluding this time interval\\nexcluding this t...</td>\n",
       "    </tr>\n",
       "    <tr>\n",
       "      <th>26</th>\n",
       "      <td>video_update</td>\n",
       "      <td>what about up until now ? \\nhow about up until...</td>\n",
       "    </tr>\n",
       "    <tr>\n",
       "      <th>27</th>\n",
       "      <td>&lt;it&gt;</td>\n",
       "      <td>that object\\nthat thing</td>\n",
       "    </tr>\n",
       "    <tr>\n",
       "      <th>28</th>\n",
       "      <td>&lt;given&gt;</td>\n",
       "      <td>given\\nconsidering</td>\n",
       "    </tr>\n",
       "    <tr>\n",
       "      <th>29</th>\n",
       "      <td>&lt;link&gt;</td>\n",
       "      <td>and\\n</td>\n",
       "    </tr>\n",
       "    <tr>\n",
       "      <th>30</th>\n",
       "      <td>&lt;among&gt;</td>\n",
       "      <td>among</td>\n",
       "    </tr>\n",
       "    <tr>\n",
       "      <th>31</th>\n",
       "      <td>&lt;earlier&gt;</td>\n",
       "      <td>earlier mentioned\\naforementioned</td>\n",
       "    </tr>\n",
       "    <tr>\n",
       "      <th>32</th>\n",
       "      <td>moving actions</td>\n",
       "      <td>movements\\nmoves\\nactivities</td>\n",
       "    </tr>\n",
       "    <tr>\n",
       "      <th>33</th>\n",
       "      <td>move</td>\n",
       "      <td>move\\naction\\nactivity\\nmovement</td>\n",
       "    </tr>\n",
       "  </tbody>\n",
       "</table>\n",
       "</div>"
      ],
      "text/plain": [
       "          original                                           synonyms\n",
       "0            thing                                      thing\\nobject\n",
       "1           sphere                                       sphere\\nball\n",
       "2             cube                                        cube\\nblock\n",
       "3              spl                                             snitch\n",
       "4            large                                         large\\nbig\n",
       "5            small                                              small\n",
       "6           medium                                            average\n",
       "7            metal                             metallic\\nmetal\\nshiny\n",
       "8           rubber                                      rubber\\nmatte\n",
       "9           static                                         stationary\n",
       "10          flying                                             flying\n",
       "11        rotating                                 rotating\\nspinning\n",
       "12         sliding                                            sliding\n",
       "13          moving                                             moving\n",
       "14            left       left of\\nto the left of\\non the left side of\n",
       "15           right    right of\\nto the right of\\non the right side of\n",
       "16          behind                                             behind\n",
       "17           front                                        in front of\n",
       "18       contained                                          contained\n",
       "19           above                                              above\n",
       "20           below                                              below\n",
       "21     whole video  during the whole video\\nthroughout the whole v...\n",
       "22          during  during the same time window\\nduring the same t...\n",
       "23          before  before this time window\\nbefore this time peri...\n",
       "24           after     after this time window\\nafter this time period\n",
       "25       excluding  excluding this time interval\\nexcluding this t...\n",
       "26    video_update  what about up until now ? \\nhow about up until...\n",
       "27            <it>                            that object\\nthat thing\n",
       "28         <given>                                 given\\nconsidering\n",
       "29          <link>                                              and\\n\n",
       "30         <among>                                              among\n",
       "31       <earlier>                  earlier mentioned\\naforementioned\n",
       "32  moving actions                       movements\\nmoves\\nactivities\n",
       "33            move                   move\\naction\\nactivity\\nmovement"
      ]
     },
     "execution_count": 15,
     "metadata": {
      "bento_obj_id": "140275803658448"
     },
     "output_type": "execute_result"
    }
   ],
   "source": [
    "df"
   ]
  },
  {
   "cell_type": "code",
   "execution_count": null,
   "metadata": {},
   "outputs": [],
   "source": []
  }
 ],
 "metadata": {
  "bento_stylesheets": {
   "bento/extensions/flow/main.css": true,
   "bento/extensions/kernel_selector/main.css": true,
   "bento/extensions/kernel_ui/main.css": true,
   "bento/extensions/new_kernel/main.css": true,
   "bento/extensions/system_usage/main.css": true,
   "bento/extensions/theme/main.css": true
  },
  "disseminate_notebook_id": {
   "notebook_id": "769286017182972"
  },
  "disseminate_notebook_info": {
   "bento_version": "20201011-210236",
   "description": "",
   "hide_code": false,
   "hipster_group": "",
   "kernel_build_info": {
    "error": "The file located at '/data/users/hle2020/fbsource/fbcode/bento/kernels/TARGETS' could not be found."
   },
   "no_uii": true,
   "notebook_number": "376462",
   "others_can_edit": false,
   "reviewers": "",
   "revision_id": "913467565847511",
   "tags": "",
   "tasks": "",
   "title": "template_nodes"
  },
  "hide_input": false,
  "kernelspec": {
   "display_name": "Python 3",
   "language": "python",
   "name": "bento_kernel_default"
  },
  "language_info": {
   "codemirror_mode": {
    "name": "ipython",
    "version": 3
   },
   "file_extension": ".py",
   "mimetype": "text/x-python",
   "name": "python",
   "nbconvert_exporter": "python",
   "pygments_lexer": "ipython3",
   "version": "3.7.5+"
  }
 },
 "nbformat": 4,
 "nbformat_minor": 2
}
